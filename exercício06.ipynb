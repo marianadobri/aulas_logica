{
 "cells": [
  {
   "cell_type": "markdown",
   "metadata": {},
   "source": [
    "atv 1 - Utilizando o comando for, exiba todos os números ímpares, de 1 a 40."
   ]
  },
  {
   "cell_type": "code",
   "execution_count": null,
   "metadata": {},
   "outputs": [],
   "source": [
    "for x in range(40):\n",
    "    if x %"
   ]
  },
  {
   "cell_type": "markdown",
   "metadata": {},
   "source": [
    "atv 2 - Gere os 6 números do sorteio da mega-sena de forma aleatória"
   ]
  },
  {
   "cell_type": "code",
   "execution_count": null,
   "metadata": {},
   "outputs": [],
   "source": [
    "import random\n",
    "for x in range (1,7):\n",
    "    n =random.randint(1,60)\n",
    "\n",
    "    print(n)"
   ]
  },
  {
   "cell_type": "markdown",
   "metadata": {},
   "source": [
    "atv 3 - Receba 5 números e verifique a soma e a quantidade de todos os pares e ímpares digitados"
   ]
  },
  {
   "cell_type": "code",
   "execution_count": 2,
   "metadata": {},
   "outputs": [
    {
     "name": "stdout",
     "output_type": "stream",
     "text": [
      " A soma total é 23, você digitou 2 pares e 3 ímpares\n"
     ]
    }
   ],
   "source": [
    "soma = 0\n",
    "par = 0\n",
    "impar = 0\n",
    "for nr in range(5) : \n",
    "    nr = int(input('Digite um número:'))\n",
    "    soma = soma + nr\n",
    "    if nr % 2 == 0 :\n",
    "        par = par + 1\n",
    "    else:\n",
    "        impar = impar + 1\n",
    "print (f' A soma total é {soma}, você digitou {par} pares e {impar} ímpares')"
   ]
  },
  {
   "cell_type": "markdown",
   "metadata": {},
   "source": [
    "atv 4 - Solicite os parâmetros de início, fim e passo para o laço de repetição usando a função range()\n",
    "e exiba o valor atual da variável de controle a cada iteração. range( x , y , z )"
   ]
  },
  {
   "cell_type": "code",
   "execution_count": 10,
   "metadata": {},
   "outputs": [
    {
     "name": "stdout",
     "output_type": "stream",
     "text": [
      "8\n"
     ]
    }
   ],
   "source": [
    "inicio = int(input('Digite o valor inicial'))\n",
    "fim = int(input('Digite o valor final'))\n",
    "passo = int(input('Digite o passo'))\n",
    "for x in range(inicio, fim, passo):\n",
    "    print(x)"
   ]
  },
  {
   "cell_type": "markdown",
   "metadata": {},
   "source": [
    "atv 5 - Ler do teclado a idade e o sexo de 10 pessoas, calcule e imprima:"
   ]
  },
  {
   "cell_type": "code",
   "execution_count": 14,
   "metadata": {},
   "outputs": [
    {
     "name": "stdout",
     "output_type": "stream",
     "text": [
      "Média das mulheres 11.0\n",
      "Média dos homens 21.666666666666668\n",
      "Média grupo 17.4\n"
     ]
    }
   ],
   "source": [
    "soma_mulheres = 0\n",
    "soma_homens = 0\n",
    "quantidade_mulheres = 0\n",
    "quantidade_homens = 0\n",
    "for x in range(5):\n",
    "    idade = int(input('Digite a idade: '))\n",
    "    sexo = input('Digite o sexo: [F/M]')\n",
    "    if sexo == 'F':\n",
    "        soma_mulheres = soma_mulheres + idade\n",
    "        quantidade_mulheres = quantidade_mulheres + 1\n",
    "    else:\n",
    "        soma_homens = soma_homens + idade\n",
    "        quantidade_homens = quantidade_homens + 1\n",
    "print(f'Média das mulheres {soma_mulheres / quantidade_mulheres}')\n",
    "print(f'Média dos homens {soma_homens / quantidade_homens}')\n",
    "print(f'Média grupo {(soma_homens + soma_mulheres) / (quantidade_homens + quantidade_mulheres)}')\n"
   ]
  },
  {
   "cell_type": "markdown",
   "metadata": {},
   "source": [
    "atv 6 - Escreva um programa que mostre todos os números entre 5 e 100 que são dívisiveis por 7. Os números obtidos devem ser espressos em sequência."
   ]
  },
  {
   "cell_type": "code",
   "execution_count": null,
   "metadata": {},
   "outputs": [],
   "source": [
    "for nr in range (5, 100) :\n",
    "    if nr % 7 == 0 :\n",
    "     print (nr)"
   ]
  },
  {
   "cell_type": "markdown",
   "metadata": {},
   "source": [
    "atv 7 - Escreva um programa em Pyton que receba um string do usuário e mostre de trás pra frente \n",
    "palavra = input ('Digite uma palavra:')"
   ]
  },
  {
   "cell_type": "code",
   "execution_count": null,
   "metadata": {},
   "outputs": [],
   "source": [
    "palavra = input ('Digite uma palavra:')\n",
    "nova_palavra = ''\n",
    "for letra in palavra:\n",
    "    nova_palavra = letra + nova_palavra\n",
    "\n",
    "    print (nova_palavra)"
   ]
  }
 ],
 "metadata": {
  "kernelspec": {
   "display_name": "Python 3",
   "language": "python",
   "name": "python3"
  },
  "language_info": {
   "codemirror_mode": {
    "name": "ipython",
    "version": 3
   },
   "file_extension": ".py",
   "mimetype": "text/x-python",
   "name": "python",
   "nbconvert_exporter": "python",
   "pygments_lexer": "ipython3",
   "version": "3.12.3"
  }
 },
 "nbformat": 4,
 "nbformat_minor": 2
}
