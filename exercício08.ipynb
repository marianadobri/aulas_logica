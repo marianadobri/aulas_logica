{
 "cells": [
  {
   "cell_type": "markdown",
   "metadata": {},
   "source": [
    " 1 - Crie uma lista com os números de 1 a 10 e imprima cada número. 😜"
   ]
  },
  {
   "cell_type": "code",
   "execution_count": 2,
   "metadata": {},
   "outputs": [
    {
     "name": "stdout",
     "output_type": "stream",
     "text": [
      "1\n",
      "2\n",
      "3\n",
      "4\n",
      "5\n",
      "6\n",
      "7\n",
      "8\n",
      "9\n",
      "10\n"
     ]
    }
   ],
   "source": [
    "listaNumeros = ['1', '2', '3', '4', '5', '6', '7', '8', '9', '10']\n",
    "for numero in listaNumeros:\n",
    "    print(numero)"
   ]
  },
  {
   "cell_type": "markdown",
   "metadata": {},
   "source": [
    "2 - Crie uma lista com os nomes de três amigos e imprima cada nome. 😜"
   ]
  },
  {
   "cell_type": "code",
   "execution_count": 16,
   "metadata": {},
   "outputs": [
    {
     "name": "stdout",
     "output_type": "stream",
     "text": [
      "Camila\n",
      "Gabi\n",
      "Livy\n"
     ]
    }
   ],
   "source": [
    "listaAmigos = ['Camila', 'Gabi', 'Livy']\n",
    "for amigo in listaAmigos:\n",
    "    print(amigo)"
   ]
  },
  {
   "cell_type": "markdown",
   "metadata": {},
   "source": [
    " 3 - Crie uma lista com os meses do ano e imprima apenas os meses que começam com \"J\". 😜"
   ]
  },
  {
   "cell_type": "code",
   "execution_count": 5,
   "metadata": {},
   "outputs": [
    {
     "name": "stdout",
     "output_type": "stream",
     "text": [
      "Janeiro\n",
      "Junho\n",
      "Julho\n"
     ]
    }
   ],
   "source": [
    "listaMeses = ['Janeiro', 'Fevereiro', 'Março', 'Abril', 'Maio', 'Junho', 'Julho', 'Agosto', 'Setembro', 'Outubro', 'Novembro', 'Dezembro']\n",
    "for mes in listaMeses:\n",
    "    if mes[0] == 'J':\n",
    "        print(mes)"
   ]
  },
  {
   "cell_type": "markdown",
   "metadata": {},
   "source": [
    "4 - Crie uma lista com as palavras \"gato\", \"cachorro\", \"pássaro\" e \"peixe\", e imprima cada palavra \n",
    "em maiúsculas. 😜"
   ]
  },
  {
   "cell_type": "code",
   "execution_count": 9,
   "metadata": {},
   "outputs": [
    {
     "name": "stdout",
     "output_type": "stream",
     "text": [
      "GATO\n",
      "CACHORRO\n",
      "PÁSSARO\n",
      "PEIXE\n"
     ]
    }
   ],
   "source": [
    "listaAnimais = ['gato', 'cachorro', 'pássaro', 'peixe']\n",
    "for animais in listaAnimais:\n",
    "    print(animais.upper())"
   ]
  },
  {
   "cell_type": "markdown",
   "metadata": {},
   "source": [
    "5 - Crie uma lista com 5 números aleatórios e exiba o nr e seu dobro desse. 😜"
   ]
  },
  {
   "cell_type": "code",
   "execution_count": 15,
   "metadata": {},
   "outputs": [
    {
     "name": "stdout",
     "output_type": "stream",
     "text": [
      "62\n",
      "48\n",
      "4\n",
      "34\n",
      "52\n"
     ]
    }
   ],
   "source": [
    "listaNumeros = [31, 24, 2, 17, 26]\n",
    "for numero in listaNumeros:\n",
    "    print(numero * 2)"
   ]
  },
  {
   "cell_type": "markdown",
   "metadata": {},
   "source": [
    "6 - Crie uma lista com valores numéricos e encontre o maior e o menor elemento dessa lista. 😜"
   ]
  },
  {
   "cell_type": "code",
   "execution_count": 18,
   "metadata": {},
   "outputs": [
    {
     "name": "stdout",
     "output_type": "stream",
     "text": [
      "2 90\n"
     ]
    }
   ],
   "source": [
    "listaNumeros = [2,69,57,5,90]\n",
    "menorNumero =10000000\n",
    "maiorNumero = 0\n",
    "for numeroAtual in listaNumeros : \n",
    "    if numeroAtual > maiorNumero : \n",
    "        maiorNumero = numeroAtual\n",
    "    if numeroAtual < menorNumero:\n",
    "        menorNumero = numeroAtual\n",
    "\n",
    "print(menorNumero, maiorNumero)\n",
    "\n",
    "\n",
    "# Utilizando as funções prontas do Python (jeito mais fácil)\n",
    "print(max(listaNumeros))\n",
    "print(min(listaNumeros))"
   ]
  },
  {
   "cell_type": "markdown",
   "metadata": {},
   "source": [
    "7 - Receba uma palavra do usuário e calcule quantas vogais há nesta palavra."
   ]
  },
  {
   "cell_type": "code",
   "execution_count": 22,
   "metadata": {},
   "outputs": [
    {
     "name": "stdout",
     "output_type": "stream",
     "text": [
      "A palavra marquin da dona ana e chocolate tem 13 vogais\n"
     ]
    }
   ],
   "source": [
    "palavra = input('Digite uma palavra')\n",
    "vogais = ['a', 'e', 'i', 'o', 'u']\n",
    "quantidadeVogais = 0\n",
    "for letra in palavra :\n",
    "    if letra.lower() in vogais :\n",
    "        quantidadeVogais = quantidadeVogais + 1\n",
    "\n",
    "print(f'A palavra {palavra} tem {quantidadeVogais} vogais')"
   ]
  }
 ],
 "metadata": {
  "kernelspec": {
   "display_name": "Python 3",
   "language": "python",
   "name": "python3"
  },
  "language_info": {
   "codemirror_mode": {
    "name": "ipython",
    "version": 3
   },
   "file_extension": ".py",
   "mimetype": "text/x-python",
   "name": "python",
   "nbconvert_exporter": "python",
   "pygments_lexer": "ipython3",
   "version": "3.12.3"
  }
 },
 "nbformat": 4,
 "nbformat_minor": 2
}
