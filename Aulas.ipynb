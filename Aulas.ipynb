{
 "cells": [
  {
   "cell_type": "markdown",
   "metadata": {},
   "source": [
    "Aula 16/02/2024 -\n",
    "Comandos de saída (print) /\n",
    "Tipos de dados (string,int,float,bool) / \n",
    "Operaçoes Aritiméticas (+ - * / % **)"
   ]
  },
  {
   "cell_type": "code",
   "execution_count": 2,
   "metadata": {},
   "outputs": [
    {
     "name": "stdout",
     "output_type": "stream",
     "text": [
      "Olá, Mundo!\n",
      "Meu primeiro código em python. Usando aspas duplas\n"
     ]
    }
   ],
   "source": [
    "#Este é meu primeiro código \n",
    "#a função print serve para exibir na tela alguma mensagem\n",
    "print(\"Olá, Mundo!\")\n",
    "\n",
    "print(\"Meu primeiro código em python. Usando aspas duplas\")\n",
    "print('Meu primeiro código em python. Usando aspas duplas')\n",
    "#para duplicar uma linha pressionei shift + alt + seta para baixo\n",
    "print(123) #Estou exibindo um número inteiro, por isso, nao precisa da \"\"\n",
    "print (70.5) #Número float\n",
    "print(True) #Campo lógico (Verdadeiro ou Falso) (True ou False)\n",
    "print(\"Sesi\")#Tipo string\n",
    " #Somando 2 números inteiros (o sinal de + para 2 numeros realikza a SOMA)\n",
    "print(8 + 6)\n",
    " #Porém se forem 2 sgtrings (o sinal de + realiza a CONCATENAÇÃO) \n",
    "print('8' + '6')\n",
    "#Posso imprimir várias informações ao mesmo tempo separando-as por ,\n",
    "print ('string',10,70.5, False)\n",
    "\n",
    "print( 10 + 50 )  # + é o operador de SOMA (numer inteiro ou decimal)\n",
    "print( 67 - 13 )  # - é o operador de SUBTRAÇÃO (nº inteiro ou decimal)\n",
    "print( 4214328 * 312321 )  # * é o opertador de MULTIPLICAÇÃO \n",
    "print( 4827 / 3 )  # / é o operador de DIVISÃO\n",
    "print( 31 % 2 )  # % é o operador do resto da divisão (MÓDULO)\n",
    "print( 3 ** 3 )  # ** é o operador de exponenciação 3³\n",
    "\n",
    "print( (8 + 6) / 2)  # O parênteses define a maior ordem de precedência\n"
   ]
  },
  {
   "cell_type": "markdown",
   "metadata": {},
   "source": [
    "Aula 22/02/2024 - \n",
    "Comandos de entrada (input) / Variáveis / Pseudocódigo"
   ]
  },
  {
   "cell_type": "code",
   "execution_count": null,
   "metadata": {},
   "outputs": [],
   "source": [
    "#Declarando minha primeira variável\n",
    "#lemos da seguinte forma:\n",
    "#variável curso recebe (=) a string \"Desenvolvimento de Sistemas\"\n",
    "#Receba/Armazene o texto \"Desenvolvimento de Sistemas\" \n",
    "curso = \"Desenvolvimento de Sistemas\"\n",
    "#Exiba o valor armazenado \n",
    "print(\"curso\") #Para imprimir uma variável não se coloca entgre \" \"\n",
    "print(curso)   #Jeito correto de utilizar uma variável \n",
    "print(\"curso\", curso)\n",
    "\n",
    "#Criando uma variável \n",
    "idade = 15\n",
    "temperatura = 23.5 \n",
    "nome = \"Mariana\"\n",
    "#Exiba o valor das 3 variáveis \n",
    "print(\"olá\", nome, \",você tem\", idade,\"anos, hoje está fazendo\", temperatura, \"ºC\") #Primeiro jeito\n",
    "print(f'olá {nome}, você tem {idade} anos, hoje está fazendo {temperatura}ºC') #Sugundo jeito \n",
    "chovendo = False\n",
    "dia = True \n",
    "\n",
    "#Nesta linha abaixo ocorrerá um erro pois não existe uma variável com o nome salário, \n",
    "#então não consegue encontrar nada para exibir \n",
    "#NameError: name 'salario' is not defined\n",
    "#print ('Salario', salario)\n",
    "\n",
    "#Declarando uma constante, diferentemente da variável que posso alterar o valor, na constante não é permitido,\n",
    "#declaramos com o nome todo em maiusculo\n",
    "PI = 3.1415\n",
    "\n",
    "# passo 1: Receber o nome da pessoa\n",
    "# no input sempre recebemos uma string\n",
    "nome = input('Qual é o seu nome?')\n",
    "\n",
    "# passo 2: Receber a idade da pessoa\n",
    "# posso converter essa string recebida do tipo inteiro\n",
    "idade = int(input('Qual sua idade?'))\n",
    "\n",
    "# passo 3: Receber o peso da pessoa \n",
    "# posso converter essa string recebida do tipo float\n",
    "peso = float(input('Qual seu peso?'))\n",
    "\n",
    "# passo 4: Exibir o nome, a idade e o peso \n",
    "print(nome, idade, peso)\n",
    "print(f'Seu nome é {nome}, você tem {idade} anos e pesa {peso}kg')\n",
    "\n",
    "#Exibindo os tipos de variáveis \n",
    "#Tudo que recebemos do input é do tipo string\n",
    "print(type(nome), type(idade), type(peso))\n",
    "\n",
    "\n"
   ]
  },
  {
   "cell_type": "markdown",
   "metadata": {},
   "source": [
    "\n",
    "Aula 23/02/2024 - Operações com variáveis "
   ]
  },
  {
   "cell_type": "code",
   "execution_count": null,
   "metadata": {},
   "outputs": [],
   "source": [
    "#Receber o primeiro número\n",
    "numero1 = float(input('Digite o primeiro número: '))\n",
    "#Receber o segundo número\n",
    "numero2 = float(input('Digite o segundo número: '))\n",
    "#Receber o terceiro número\n",
    "numero3 = float(input('Digite o terceiro número:'))\n",
    "#Soma o primeiro número + o segundo número\n",
    "soma = numero1 + numero2 + numero3\n",
    "#Exibir o resultado\n",
    "print(type(soma))\n",
    "print(soma)"
   ]
  },
  {
   "cell_type": "code",
   "execution_count": null,
   "metadata": {},
   "outputs": [],
   "source": [
    "numero1 = float(input('digite seu numero: '))\n",
    "numero2 = float(input('digite seu numero: '))\n",
    "\n",
    "resultado=numero1*numero2\n",
    "print (resultado)\n",
    "\n",
    "#passo1: receber o preço do celular\n",
    "preço= float(input('digite seu numero: '))\n",
    "\n",
    "#passo2: receber o valor de desconto\n",
    "desconto= float(input('digite seu numero:  '))\n",
    "\n",
    "#atualizando o valor do produto com o desconto\n",
    "#?????????????????????\n",
    "\n",
    "#passo3: calcular o novo valor do celular\n",
    "novo_preço= preço - desconto \n",
    "print(resultado)"
   ]
  },
  {
   "cell_type": "code",
   "execution_count": null,
   "metadata": {},
   "outputs": [],
   "source": [
    "numero= 4/2\n",
    "print (numero)\n",
    "\n",
    "numero= numero**2\n",
    "print= (numero)\n",
    "\n",
    "numero= numero *(50-20)\n",
    "print (numero)\n",
    "print(f'o valor final é {numero}')"
   ]
  },
  {
   "cell_type": "code",
   "execution_count": null,
   "metadata": {},
   "outputs": [],
   "source": [
    "#passo1: descobrir quantas horas de trabalho vamos usar no projeto 8hx15\n",
    "#passo2: pegar o custo de uma hora de trabalho e multiplicar pelo resultado do passo 1\n",
    "#100rs\n",
    "#passo3: exibir o resultado final do custo do projeto\n",
    "\n",
    "horas_por_dia= 8\n",
    "dias_totais= 15\n",
    "horas_trabalho=horas_por_dia* dias_totais\n",
    "custo_hora= 100\n",
    "custo_total= horas_trabalho* custo_hora\n",
    "print(f'você deve cobrar R$ {custo_total}')\n"
   ]
  },
  {
   "cell_type": "code",
   "execution_count": null,
   "metadata": {},
   "outputs": [],
   "source": [
    "#Receber o primeiro número\n",
    "numero1 = float(input('digite o primeiro número:'))\n",
    "\n",
    "#Receber o segundo número\n",
    "numero2 = float(input('digite seu número:'))\n",
    "\n",
    "#Receber o terceiro número\n",
    "numero3 = float(input('digite o terceiro número: '))\n",
    "\n",
    "#Soma o primeiro número + o segundo número\n",
    "soma= numero1 + numero2 + numero3\n",
    "\n",
    "#Exibir resultado\n",
    "print(soma)\n",
    "print(type(soma))\n"
   ]
  },
  {
   "cell_type": "markdown",
   "metadata": {},
   "source": [
    "Aula 29/02/2024 - Operadores ralacionais e estrutura condicional"
   ]
  },
  {
   "cell_type": "code",
   "execution_count": 7,
   "metadata": {},
   "outputs": [
    {
     "name": "stdout",
     "output_type": "stream",
     "text": [
      "a > b ? False\n",
      "a == b ? False\n",
      "a != b ? True\n",
      "a > 2 ? False\n",
      "a >= 2 ? True\n"
     ]
    }
   ],
   "source": [
    "a = 2\n",
    "b = 3\n",
    "print(f'a > b ? {a > b}')\n",
    "print(f'a == b ? {a == b}')\n",
    "print(f'a != b ? {a != b}')\n",
    "print(f'a > 2 ? {a > 2}')\n",
    "print(f'a >= 2 ? {a >= 2}')"
   ]
  },
  {
   "cell_type": "code",
   "execution_count": 2,
   "metadata": {
    "tags": []
   },
   "outputs": [],
   "source": [
    "tenho_ingresso = True\n",
    "if tenho_ingresso == True:\n",
    "    print('posso entrar')\n",
    "print('fim')"
   ]
  },
  {
   "cell_type": "code",
   "execution_count": 3,
   "metadata": {},
   "outputs": [
    {
     "name": "stdout",
     "output_type": "stream",
     "text": [
      "FIM\n"
     ]
    }
   ],
   "source": [
    "#Passo 1: Receber o valor da idade\n",
    "idade = int(input('Qual sua idade'))\n",
    "\n",
    "#Passo 2: Verificar SE é maior ou igual a 18 ENTÃO\n",
    "if idade >= 18 :   \n",
    "\n",
    "    #Passo 3: Se for Exibir \"Mair de idade\"\n",
    "    print('Maior idade')\n",
    "\n",
    "print('FIM')    "
   ]
  },
  {
   "cell_type": "code",
   "execution_count": null,
   "metadata": {},
   "outputs": [],
   "source": [
    "tenho_ingresso = True\n",
    "if tenho_ingresso == True : \n",
    "    print('posso entrar')\n",
    "else : \n",
    "    print('vá comprar')   \n",
    "\n",
    "print('fim')\n"
   ]
  },
  {
   "cell_type": "markdown",
   "metadata": {},
   "source": [
    "Aula 01/03/2024 - Operadores Lógicos e Estrutura condicional"
   ]
  },
  {
   "cell_type": "code",
   "execution_count": 6,
   "metadata": {},
   "outputs": [
    {
     "name": "stdout",
     "output_type": "stream",
     "text": [
      "False\n",
      "False\n",
      "True\n",
      "True\n"
     ]
    }
   ],
   "source": [
    "a = 2\n",
    "b = 3\n",
    "c = 5\n",
    "#      False   e   False\n",
    "print((a > 2) and (b < 2))  #False\n",
    "\n",
    "#      False  ou  False\n",
    "print((a > 2) or (b < 2))  #False\n",
    "\n",
    "#      False  ou  True\n",
    "print((a > 2) or (b < 5))  #True\n",
    "\n",
    "# exemplo:\n",
    "idade = 18\n",
    "#        False         True\n",
    "print(idade > 18 or idade == 18)   #True\n",
    "#             idade >= 18\n",
    "\n"
   ]
  },
  {
   "cell_type": "code",
   "execution_count": 9,
   "metadata": {},
   "outputs": [
    {
     "name": "stdout",
     "output_type": "stream",
     "text": [
      "peso ideal!\n"
     ]
    }
   ],
   "source": [
    "altura = float(input('digite sua altura'))\n",
    "peso = float(input('digite seu peso'))\n",
    "imc = peso / (altura ** 2)\n",
    "if imc < 18.5 :\n",
    "    print('abaixo do peso ideal!')\n",
    "elif imc >= 18.6 and imc <= 24.9 :\n",
    "    print('peso ideal!')\n",
    "elif imc >= 25 and imc <= 29.9: \n",
    "    print('sobrepeso')\n",
    "else: \n",
    "    print('obesidade')\n",
    "    😶‍🌫️🤯🤢🤮🤕👻👻💩💩🐸🦓🫎🐽🐾🐔🐴🪱🍘🍘🍰🍩🍫🥃🍇🍒🍓\n"
   ]
  },
  {
   "cell_type": "code",
   "execution_count": 11,
   "metadata": {},
   "outputs": [
    {
     "name": "stdout",
     "output_type": "stream",
     "text": [
      "triâgulo escaleno\n"
     ]
    }
   ],
   "source": [
    "lado1 = input('digite lado 1')\n",
    "lado2 = input('digite lado 2')\n",
    "lado3 = input('digite lado 3')\n",
    "if (lado1 == lado2) and (lado2 == lado3):\n",
    "    print('triângulo equilátero')\n",
    "elif (lado1 != lado2) and (lado2 != lado3) and (lado1 != lado3):\n",
    "    print('triâgulo escaleno')\n",
    "else:\n",
    "    print('triângulo isósceles')   "
   ]
  },
  {
   "cell_type": "code",
   "execution_count": 17,
   "metadata": {},
   "outputs": [
    {
     "name": "stdout",
     "output_type": "stream",
     "text": [
      "a letra t não é uma vogal\n"
     ]
    }
   ],
   "source": [
    "letra = input('digite uma letra:')\n",
    "if letra == 'a' or letra == 'e' or letra == 'i' or letra == 'o' or letra == 'u':\n",
    "    print(f'a letra {letra} é uma vogal')\n",
    "else :\n",
    "    print(f'a letra {letra} não é uma vogal')"
   ]
  },
  {
   "cell_type": "markdown",
   "metadata": {},
   "source": [
    "07/03/2024 - Estrutura condicional aninhada/ match case"
   ]
  },
  {
   "cell_type": "code",
   "execution_count": 2,
   "metadata": {},
   "outputs": [
    {
     "name": "stdout",
     "output_type": "stream",
     "text": [
      "você não pode votar\n",
      "FIM\n"
     ]
    }
   ],
   "source": [
    "idade = int(input('digite sua idade'))\n",
    "if idade >= 18 and idade <= 70:\n",
    "    print('você é obrigado a votar')\n",
    "else:\n",
    "    if idade < 16:\n",
    "        print('você não pode votar')\n",
    "    else:\n",
    "        if idade >= 16 or idade > 70: \n",
    "            print('seu voto é facultativo')\n",
    "print('FIM')"
   ]
  },
  {
   "cell_type": "code",
   "execution_count": 4,
   "metadata": {},
   "outputs": [],
   "source": [
    "n1 = int(input('digite um número inteiro'))\n",
    "n2 = int(input('digite outro número inteiro'))\n",
    "operador = (input('digite um operador + - * / **'))\n",
    "match operador:\n",
    "    case'+':    # if op == '+' :\n",
    "        print(f'{n1} {op} {n2} = {n1 + n2}')\n",
    "    case'-':    # if op == '-' :\n",
    "        print(f'{n1} {op} {n2} = {n1 - n2}')\n",
    "    case'*': # if op == '*' :\n",
    "        print(f'{n1} * {n2} = {n1 * n2}')\n",
    "    case'/': # if op == '/' :\n",
    "        print(f'{n1} / {n2} = {n1 / n2}')\n",
    "    case'**': # if op == '**' :\n",
    "        print(f'{n1} ** {n2} = {n1 ** n2}')\n",
    "    case _ :\n",
    "        print('operador digitado inválido')\n"
   ]
  },
  {
   "cell_type": "markdown",
   "metadata": {},
   "source": [
    "08/03/2024 - Laço de Repetição - While"
   ]
  },
  {
   "cell_type": "code",
   "execution_count": 1,
   "metadata": {},
   "outputs": [
    {
     "name": "stdout",
     "output_type": "stream",
     "text": [
      "Eu vou prestar atenção na aula\n",
      "Eu vou prestar atenção na aula\n",
      "Eu vou prestar atenção na aula\n",
      "Eu vou prestar atenção na aula\n",
      "Eu vou prestar atenção na aula\n",
      "Eu vou prestar atenção na aula\n",
      "Eu vou prestar atenção na aula\n",
      "Eu vou prestar atenção na aula\n",
      "Eu vou prestar atenção na aula\n",
      "Eu vou prestar atenção na aula\n",
      "FIM\n"
     ]
    }
   ],
   "source": [
    "x = 1\n",
    "while x <= 10:\n",
    "    print ('Eu vou prestar atenção na aula')\n",
    "    x = x + 1\n",
    "print ('FIM')"
   ]
  },
  {
   "cell_type": "code",
   "execution_count": 3,
   "metadata": {},
   "outputs": [
    {
     "name": "stdout",
     "output_type": "stream",
     "text": [
      "10\n",
      "9\n",
      "8\n",
      "7\n",
      "6\n",
      "5\n",
      "4\n",
      "3\n",
      "2\n",
      "1\n",
      "0\n",
      "Feliz ano novo 🎆🎉🎉🎉🎉🎉🎉🎉🎉🎉🧨🧨✨✨✨🧨🎆🎈🎈🎆🎆🎇🧨✨🎉🎆🎈🎈🎊🎊🎊🎈🎈🎈\n"
     ]
    }
   ],
   "source": [
    "import time #importando uma biblioteca de tempo\n",
    "x = 10\n",
    "while x >= 0:\n",
    "    print (x)\n",
    "    time.sleep(0.5)  #Dando uma pausa de 1s na execução\n",
    "    x = x - 1\n",
    "print ('Feliz ano novo 🎆🎉🎉🎉🎉🎉🎉🎉🎉🎉🧨🧨✨✨✨🧨🎆🎈🎈🎆🎆🎇🧨✨🎉🎆🎈🎈🎊🎊🎊🎈🎈🎈')"
   ]
  },
  {
   "cell_type": "code",
   "execution_count": null,
   "metadata": {},
   "outputs": [],
   "source": [
    "🤣🤣🤣🤣😃😄😄🥲😎😗😙😙😙😙🥱😴😥🙄😶‍🌫️😏😣🙄🙄🙄🙄🙄😮‍💨😱😱🤪👿🐮🐮🦬🦨🦥🐓\n",
    "🤺🤺🤺🤺🤺🤺🤺🤺🤺⛷️⛷️⛷️"
   ]
  },
  {
   "cell_type": "code",
   "execution_count": 1,
   "metadata": {},
   "outputs": [
    {
     "name": "stdout",
     "output_type": "stream",
     "text": [
      "Seja bem vindo, \n",
      "Seja bem vindo, mariana\n",
      "Seja bem vindo, gabriela\n",
      "Seja bem vindo, sair\n"
     ]
    }
   ],
   "source": [
    "texto = ''\n",
    "while texto != \"sair\":\n",
    "    texto = input('Digite seu nome (\"sair\" para terminar):')\n",
    "    print(f'Seja bem vindo, {texto}')\n"
   ]
  },
  {
   "cell_type": "code",
   "execution_count": 4,
   "metadata": {},
   "outputs": [
    {
     "name": "stdout",
     "output_type": "stream",
     "text": [
      "FIM\n",
      "FIM\n",
      "Você está preso tentando kackear a rede\n"
     ]
    }
   ],
   "source": [
    "senha_senai = '12345'\n",
    "nr_tentativa = 0\n",
    "while True: \n",
    "    senha = input('Qual é a senha 👀? \"Desisto\" para sair 🙁')\n",
    "    if senha == senha_senai:\n",
    "        print(\"Você hackeou a Rede\")\n",
    "        break\n",
    "    if senha == 'Desisto':\n",
    "        break\n",
    "    else:\n",
    "        nr_tentativa = nr_tentativa + 1\n",
    "        if nr_tentativa == 3 :\n",
    "            print('Você está preso tentando kackear a rede')\n",
    "            break\n",
    "    print('FIM')"
   ]
  },
  {
   "cell_type": "markdown",
   "metadata": {},
   "source": [
    "21/03/2024 - Revisão do while"
   ]
  },
  {
   "cell_type": "code",
   "execution_count": null,
   "metadata": {},
   "outputs": [],
   "source": [
    "resp = 's' \n",
    "while resp == 's' :\n",
    "    resp = input('Deseja continuar? [S/N]')\n",
    "\n",
    "print('FIM')"
   ]
  },
  {
   "cell_type": "code",
   "execution_count": null,
   "metadata": {},
   "outputs": [],
   "source": [
    "soma = 0\n",
    "qtde = 0\n",
    "while True : \n",
    "    valor = float(input('digite o valor do produto [-1 para encerrar]'))\n",
    "    if valor == -1 :\n",
    "        break\n",
    "    soma = valor + valor\n",
    "    qtde = qtde + 1 \n",
    "\n",
    "print (f'valor total R$ {soma:.2f} qtde produto {qtde}')"
   ]
  },
  {
   "cell_type": "code",
   "execution_count": null,
   "metadata": {},
   "outputs": [],
   "source": [
    "#importando a biblioteca de numeros aleatorios \n",
    "import random\n",
    "#sorteando um numero de 1 a 100\n",
    "nrSorteado = random.randint(1, 100)\n",
    "print(nrSorteado)\n",
    "print('-=-=-=-=-=-=-=-=-=-=-=-=-=-=-')\n",
    "print('  🤔jogo da adivinhação🤔    ')\n",
    "print('=============================')\n",
    "\n",
    "acertou = False\n",
    "while acertou == False : \n",
    "    chute = int(input('🕵️‍♂️ digite um numero entre 1 e 100: '))\n",
    "    if chute == nrSorteado :\n",
    "        print(f'você chutou {chute}. Parabéns você aertou 👏👏👏')\n",
    "        acertou = True\n",
    "    elif chute > nrSorteado :\n",
    "        print (f'você chutou {chute}. Tente um numero 👇')\n",
    "    else:\n",
    "        print(f'você chutou {chute}. Tente um numero 👆')\n",
    "\n",
    "        print('FIM')"
   ]
  },
  {
   "cell_type": "markdown",
   "metadata": {},
   "source": [
    "22/03/2024 - For"
   ]
  },
  {
   "cell_type": "code",
   "execution_count": null,
   "metadata": {},
   "outputs": [],
   "source": [
    "for x in range (5) :\n",
    "    print(x)"
   ]
  },
  {
   "cell_type": "code",
   "execution_count": null,
   "metadata": {},
   "outputs": [],
   "source": [
    "print ('Entregando os notebooks')\n",
    "for nr in range (32) :\n",
    "    nr = nr + 1\n",
    "    nome = input(f'Quem é o Nº {nr}?')\n",
    "    presente = input(f'O(a) {nome} veio para a escola?[S/N]')\n",
    "    if presente == 'S':\n",
    "        print(f'Pegar o notebook {nr}')\n",
    "        print(f'Pegar o mouse {nr}')\n",
    "        print(f'levar o notebook até o {nr}')\n",
    "    else:\n",
    "        print(f'Não pegar o notebook') \n",
    "\n",
    "        print (f'Começar a aula')"
   ]
  },
  {
   "cell_type": "code",
   "execution_count": null,
   "metadata": {},
   "outputs": [],
   "source": [
    "for x in range(5,10) : \n",
    "    print (x)"
   ]
  },
  {
   "cell_type": "code",
   "execution_count": null,
   "metadata": {},
   "outputs": [],
   "source": [
    "for x in range (5,30, 4) :\n",
    "    print(x)"
   ]
  },
  {
   "cell_type": "code",
   "execution_count": null,
   "metadata": {},
   "outputs": [],
   "source": [
    "n = 8 \n",
    "for x in range (11):\n",
    "    print(f'{n} x {x} = {n*x}')"
   ]
  },
  {
   "cell_type": "markdown",
   "metadata": {},
   "source": [
    "28/03/2024 - Variáveis Compostas - Vetores/Listas"
   ]
  },
  {
   "cell_type": "code",
   "execution_count": 1,
   "metadata": {},
   "outputs": [
    {
     "name": "stdout",
     "output_type": "stream",
     "text": [
      "['Maçã', 'Banana', 'Abacaxi', 'Uva']\n",
      "Banana\n"
     ]
    }
   ],
   "source": [
    "frutas = ['Maçã', 'Banana', 'Abacaxi', 'Uva']\n",
    "print(frutas)\n",
    "print(frutas[1])\n",
    "\n",
    "#Declaração de uma lista vazia\n",
    "lista_vazia = []\n",
    "\n",
    "#Declaração de uma lista de números\n",
    "numeres = [5, 8, 10, 40, 3]\n",
    "\n",
    "#Declaração de uma lista de strings\n",
    "nomes = ['Ana', 'João', 'Maria']\n",
    "\n",
    "#Declaração de uma lista mista\n",
    "lista_mista = [1, \"teste\", True, 3.5]"
   ]
  },
  {
   "cell_type": "code",
   "execution_count": null,
   "metadata": {},
   "outputs": [],
   "source": [
    "frutas = ['Maçã', 'Banana', 'Abacaxi', 'Uva']\n",
    "frutas [3] = 'Melancia'\n",
    "print(frutas)                                                             "
   ]
  },
  {
   "cell_type": "code",
   "execution_count": null,
   "metadata": {},
   "outputs": [],
   "source": [
    "frutas = ['Maçã', 'Banana', 'Morango', 'Abacaxi', 'Melancia', 'Laranja', 'Uva']\n",
    "print(frutas[4]) #Posição específica\n",
    "print(frutas[0:4]) #Da posição 0 pegar 4 itens \n",
    "print(frutas [1:]) #Da posição 1 até o último\n",
    "print(frutas[-2:]) #Nr do itens do fim pro ínicio \n",
    "print(frutas[-1]) #Ultimo item da lista\n",
    "print(len(frutas)) #Total de itens da lista\n",
    "\n",
    "frutas.sort () #Ordenando lista em ordem crescente\n",
    "print (frutas)\n",
    "frutas.reverse () #Ordenando lista em ordem crescente \n",
    "print (frutas)"
   ]
  },
  {
   "cell_type": "markdown",
   "metadata": {},
   "source": [
    "Aula 04/04/2024 - Iteração em listas"
   ]
  },
  {
   "cell_type": "code",
   "execution_count": 8,
   "metadata": {},
   "outputs": [
    {
     "name": "stdout",
     "output_type": "stream",
     "text": [
      "t é uma consoante\n"
     ]
    }
   ],
   "source": [
    "# Criando uma lista de vogais\n",
    "vogais = ['a', 'e', 'i', 'o', 'u']\n",
    "consoantes = ['q', 'w', 'r', 't', 'y', 'p', 's', 'd', 'f', 'g', 'h', 'j', 'k', 'l', 'z', 'x', 'c', 'v', 'b', 'n', 'm']\n",
    "#Recebendo um caractere digitado pelo usuário\n",
    "letra = input('Informe um caractere')\n",
    "# o método .lower() deixa todas as letras digitadas como minuculas\n",
    "# o método .upper() deixa todas as letras digitadas maiusculas\n",
    "# lemos da seguinte forma:\n",
    "# SE a letra em MINUSCULA ESTIVER na lista de vogais ENTÃO\n",
    "if letra.lower() in vogais : \n",
    "    print (f'{letra} é uma vogal')\n",
    "elif letra.lower() in consoantes:\n",
    "    print (f'{letra} é uma consoante')\n",
    "else : \n",
    "    print ('Não é uma letra')"
   ]
  },
  {
   "cell_type": "code",
   "execution_count": 9,
   "metadata": {},
   "outputs": [
    {
     "name": "stdout",
     "output_type": "stream",
     "text": [
      "8 é um número par\n"
     ]
    }
   ],
   "source": [
    "#Criando lista de números de 0 a 9\n",
    "pares = ['0', '2', '4', '6', '8',]\n",
    "ímpares = ['1', '3', '5', '7', '9']\n",
    "#Recebendo um número digitado pelo usuario\n",
    "numero = input('Informe um número de 0 a 9')\n",
    "if numero in pares : \n",
    "    print(f'{numero} é um número par')\n",
    "elif numero in ímpares : \n",
    "    print(f'{numero} é um número ímpar')"
   ]
  },
  {
   "cell_type": "code",
   "execution_count": 10,
   "metadata": {},
   "outputs": [
    {
     "name": "stdout",
     "output_type": "stream",
     "text": [
      "Pelé\n",
      "Maradona\n",
      "Messi\n",
      "Cristiano Ronaldo\n"
     ]
    }
   ],
   "source": [
    "listaNomes = ['Pelé', 'Maradona', 'Messi', 'Cristiano Ronaldo']\n",
    "for nome in listaNomes: \n",
    "    print(nome)"
   ]
  },
  {
   "cell_type": "code",
   "execution_count": 14,
   "metadata": {},
   "outputs": [
    {
     "name": "stdout",
     "output_type": "stream",
     "text": [
      "4\n",
      "10\n",
      "12\n",
      "17\n",
      "26\n"
     ]
    }
   ],
   "source": [
    "listaNumeros = [4,6,2,5,9]\n",
    "soma = 0\n",
    "for numero in listaNumeros:\n",
    "    soma = soma + numero\n",
    "print(soma)"
   ]
  },
  {
   "cell_type": "code",
   "execution_count": 16,
   "metadata": {},
   "outputs": [
    {
     "name": "stdout",
     "output_type": "stream",
     "text": [
      "A fruta Maçã está na posição 0\n",
      "A fruta Banana está na posição 1\n",
      "A fruta Abacaxi está na posição 2\n",
      "A fruta Uva está na posição 3\n"
     ]
    }
   ],
   "source": [
    "listaFrutas = ['Maçã', 'Banana', 'Abacaxi', 'Uva']\n",
    "for posição,fruta in enumerate(listaFrutas):\n",
    "    print(f'A fruta {fruta} está na posição {posição}')"
   ]
  },
  {
   "cell_type": "code",
   "execution_count": 17,
   "metadata": {},
   "outputs": [
    {
     "name": "stdout",
     "output_type": "stream",
     "text": [
      "Celular\n",
      " Notebook\n",
      " Tv\n",
      " Tablet\n",
      " Headset\n"
     ]
    }
   ],
   "source": [
    "produtos = 'Celular, Notebook, Tv, Tablet, Headset'\n",
    "listaProdutos = produtos.split(',')\n",
    "for produto in listaProdutos:\n",
    "    print(produto)"
   ]
  },
  {
   "cell_type": "code",
   "execution_count": 18,
   "metadata": {},
   "outputs": [
    {
     "name": "stdout",
     "output_type": "stream",
     "text": [
      "S\n",
      "E\n",
      "N\n",
      "A\n",
      "I\n"
     ]
    }
   ],
   "source": [
    "palavra = 'SENAI'\n",
    "for letra in palavra:\n",
    "    print(letra)"
   ]
  },
  {
   "cell_type": "code",
   "execution_count": null,
   "metadata": {},
   "outputs": [],
   "source": [
    "#Criando uma lista vazia\n",
    "listaComidas = []\n",
    "#Laço de repetição sem um nr de execução definida\n",
    "while True :\n",
    "    # Recebendo informação do usuário e armazenando em uma variável\n",
    "    comida = input('Digite uma comida que você mais gosta:')\n",
    "    # Inserindo o valor da variável no fial da nossa lista\n",
    "    listaComidas.append(comida)\n",
    "    #Obtendo a resposta do usuário se deseja continuar\n",
    "    resp = input('Deseja continuar? [S/N]')\n",
    "    #Verificando condição da resposta dele, se for N ou n sair do laço\n",
    "    if resp in 'Nn' : \n",
    "        # Parando o laço de repetição while\n",
    "        break\n",
    "\n",
    "# Fora do while - após fnalizar sua executação e encontrar o break\n",
    "# laço de repetição para exibir os itens e suas posições\n",
    "for pos, comida in enumerate(listaComidas) :\n",
    "    # Exibindo as variáveis de cada item da lista\n",
    "    print(f'{pos+1}º {comida}')\n",
    "\n",
    "print(listaComidas[0])"
   ]
  },
  {
   "cell_type": "markdown",
   "metadata": {},
   "source": [
    "Aula 11/04/2024 - Funções"
   ]
  },
  {
   "cell_type": "code",
   "execution_count": 1,
   "metadata": {},
   "outputs": [
    {
     "name": "stdout",
     "output_type": "stream",
     "text": [
      "--------------------\n",
      "SESI / SENAI\n",
      "--------------------\n"
     ]
    }
   ],
   "source": [
    "print ( '-' * 20 )\n",
    "print ( 'SESI / SENAI')\n",
    "print ( '-' * 20 )"
   ]
  },
  {
   "cell_type": "code",
   "execution_count": 4,
   "metadata": {},
   "outputs": [
    {
     "name": "stdout",
     "output_type": "stream",
     "text": [
      "--------------------\n",
      "SESI/SENAI\n",
      "--------------------\n"
     ]
    }
   ],
   "source": [
    "def linha ():\n",
    "    print ('-' * 20)\n",
    "\n",
    "linha()\n",
    "print('SESI/SENAI')\n",
    "linha()"
   ]
  },
  {
   "cell_type": "code",
   "execution_count": 5,
   "metadata": {},
   "outputs": [
    {
     "name": "stdout",
     "output_type": "stream",
     "text": [
      "--------------------\n",
      "SESI/SENAI\n",
      "--------------------\n"
     ]
    }
   ],
   "source": [
    "def Cabecalho():\n",
    "    print('-' * 20)\n",
    "    print('SESI/SENAI')\n",
    "    print('-' * 20)\n",
    "\n",
    "Cabecalho()"
   ]
  },
  {
   "cell_type": "code",
   "execution_count": 10,
   "metadata": {},
   "outputs": [
    {
     "name": "stdout",
     "output_type": "stream",
     "text": [
      "Mariana, tenha um bom dia\n",
      "Camila, tenha um bom dia\n",
      "Gabi, tenha um bom dia\n"
     ]
    }
   ],
   "source": [
    "\n",
    "def Saudacao():\n",
    "    nome = input('Digite o seu nome')\n",
    "    print(f'{nome}, tenha um bom dia')\n",
    "\n",
    "Saudacao()\n",
    "Saudacao()\n",
    "Saudacao()"
   ]
  },
  {
   "cell_type": "code",
   "execution_count": 11,
   "metadata": {},
   "outputs": [
    {
     "name": "stdout",
     "output_type": "stream",
     "text": [
      "--------------------\n",
      "SESI\n",
      "--------------------\n",
      "--------------------\n",
      "SENAI\n",
      "--------------------\n",
      "--------------------\n",
      "ESCOLA\n",
      "--------------------\n"
     ]
    }
   ],
   "source": [
    "def Cabecalho(texto):\n",
    "    linha()\n",
    "    print(texto)\n",
    "    linha()\n",
    "\n",
    "Cabecalho('SESI')\n",
    "Cabecalho('SENAI')\n",
    "Cabecalho('ESCOLA')"
   ]
  },
  {
   "cell_type": "code",
   "execution_count": 16,
   "metadata": {},
   "outputs": [
    {
     "name": "stdout",
     "output_type": "stream",
     "text": [
      "A soma de 10 + 5 é 15\n",
      "A soma de 8884544848475 + 5524548785651 é 14409093634126\n",
      "A soma de 79 + 80 é 159\n"
     ]
    }
   ],
   "source": [
    "def Soma(n1,n2) : \n",
    "    res = n1 + n2\n",
    "    print(f'A soma de {n1} + {n2} é {res}')\n",
    "\n",
    "Soma(10, 5)\n",
    "Soma(8884544848475, 5524548785651)\n",
    "Soma(79, 80)"
   ]
  },
  {
   "cell_type": "code",
   "execution_count": 28,
   "metadata": {},
   "outputs": [
    {
     "name": "stdout",
     "output_type": "stream",
     "text": [
      "O número 8 é par\n",
      "O número 5 é impar\n"
     ]
    }
   ],
   "source": [
    "def parImpar(numero):\n",
    "    if numero % 2 == 0:\n",
    "        print(f'O número {numero} é par')\n",
    "    else:\n",
    "        print(f'O número {numero} é impar')\n",
    "\n",
    "\n",
    "parImpar(8)\n",
    "parImpar(5)\n",
    "\n",
    "\n"
   ]
  },
  {
   "cell_type": "code",
   "execution_count": 30,
   "metadata": {},
   "outputs": [
    {
     "name": "stdout",
     "output_type": "stream",
     "text": [
      "9.0\n",
      "6.0\n"
     ]
    }
   ],
   "source": [
    "def Media(n1, n2):\n",
    "    res = (n1 + n2) / 2 \n",
    "    return(res)\n",
    "\n",
    "# A variável resultado_media recebe o retorno da função Media\n",
    "resultado_media = Media(10,8)\n",
    "print(resultado_media)\n",
    "print(Media(10, 2))\n",
    "\n",
    "          "
   ]
  },
  {
   "cell_type": "code",
   "execution_count": 33,
   "metadata": {},
   "outputs": [
    {
     "name": "stdout",
     "output_type": "stream",
     "text": [
      "25/12/1987\n",
      "27/02/1989\n"
     ]
    }
   ],
   "source": [
    "def FormatarData(dia,mes,ano) :\n",
    "    data = (f'{dia}/{mes}/{ano}')\n",
    "    return (data)\n",
    "print(FormatarData(25, 12, 1987))\n",
    "print(FormatarData(27,'02', 1989))"
   ]
  },
  {
   "cell_type": "markdown",
   "metadata": {},
   "source": [
    "12/04/2024 - Escopo de variáveis (Variável local e global)"
   ]
  },
  {
   "cell_type": "code",
   "execution_count": 2,
   "metadata": {},
   "outputs": [
    {
     "name": "stdout",
     "output_type": "stream",
     "text": [
      "Valor ANTES da função SENAI\n",
      "Valor dentro da função SESI\n",
      "Valor DEPOIS da função SENAI\n"
     ]
    }
   ],
   "source": [
    "def NomeEscola():\n",
    "    escola = 'SESI'\n",
    "    print(f'Valor dentro da função {escola}')\n",
    "\n",
    "escola = 'SENAI'\n",
    "print(f'Valor ANTES da função {escola}')\n",
    "NomeEscola()\n",
    "print(f'Valor DEPOIS da função {escola}')\n"
   ]
  },
  {
   "cell_type": "code",
   "execution_count": null,
   "metadata": {},
   "outputs": [],
   "source": [
    "def NomeEscola():\n",
    "    # Caso eu queira atualizar o conteúdo da variável escola\n",
    "    # preciso escrever que ela é a global\n",
    "    global escola\n",
    "    escola = 'SENAI' # Alterando o valor da variavel global\n",
    "    print(f'Valor dentro da função {escola}')\n",
    "\n",
    "escola = 'SENAI'\n",
    "print(f'Valor ANTES da função {escola}')\n",
    "NomeEscola()\n",
    "print(f'Valor DEPOIS da função {escola}')"
   ]
  },
  {
   "cell_type": "code",
   "execution_count": 3,
   "metadata": {},
   "outputs": [
    {
     "name": "stdout",
     "output_type": "stream",
     "text": [
      "fora da função 10\n",
      "Dentro da função 1\n",
      "fora da função 10\n"
     ]
    }
   ],
   "source": [
    "x = 10 # x é uma variavel global\n",
    "# Podemos acessar x fora de uma função tambem\n",
    "print('fora da função', x)\n",
    "\n",
    "def minhaFuncao() :\n",
    "    x = 0 # <- variavel local (<- = seta kkk) \n",
    "    x = x + 1\n",
    "    print('Dentro da função', x)\n",
    "\n",
    "minhaFuncao()\n",
    "print('fora da função', x)"
   ]
  },
  {
   "cell_type": "code",
   "execution_count": null,
   "metadata": {},
   "outputs": [],
   "source": [
    "x = 10 # x é uma variavel global\n",
    "# Podemos acessar x fora de uma função tambem\n",
    "print('fora da função', x)\n",
    "\n",
    "def minhaFuncao() :\n",
    "    '''\n",
    "        Aqui posso escrever a descrição do que faz a minha função\n",
    "    '''\n",
    "    global x # Dizendo que usaremos a variavel x global\n",
    "    \n",
    "    x = x + 1\n",
    "    print('Dentro da função', x)\n",
    "\n",
    "minhaFuncao()\n",
    "print('fora da função', x)"
   ]
  }
 ],
 "metadata": {
  "kernelspec": {
   "display_name": "Python 3",
   "language": "python",
   "name": "python3"
  },
  "language_info": {
   "codemirror_mode": {
    "name": "ipython",
    "version": 3
   },
   "file_extension": ".py",
   "mimetype": "text/x-python",
   "name": "python",
   "nbconvert_exporter": "python",
   "pygments_lexer": "ipython3",
   "version": "3.12.3"
  }
 },
 "nbformat": 4,
 "nbformat_minor": 2
}
