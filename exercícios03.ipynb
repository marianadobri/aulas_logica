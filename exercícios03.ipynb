{
 "cells": [
  {
   "cell_type": "markdown",
   "metadata": {},
   "source": [
    " 1. Pede ao usuário para digitar um número de 1 a 7 e imprime o dia da semana correspondente."
   ]
  },
  {
   "cell_type": "code",
   "execution_count": 3,
   "metadata": {},
   "outputs": [
    {
     "name": "stdout",
     "output_type": "stream",
     "text": [
      "sexta\n"
     ]
    }
   ],
   "source": [
    "numero = input('digite um numero de 1 - 7:')\n",
    "match numero:\n",
    "    case '1':\n",
    "        print(f'segunda')\n",
    "    case '2':\n",
    "        print(f'terça')\n",
    "    case '2':\n",
    "        print(f'terça')\n",
    "    case '3':\n",
    "        print(f'quarta')\n",
    "    case '4':\n",
    "        print(f'quinta')\n",
    "    case '5':\n",
    "        print(f'sexta')\n",
    "    case '6':\n",
    "        print(f'sábado')\n",
    "    case '7':\n",
    "        print(f'domingo')"
   ]
  },
  {
   "cell_type": "markdown",
   "metadata": {},
   "source": [
    "2. Pede ao usuário o ano atual e o ano de nascimento e verifique em qual faixa etária ele\n",
    "pertence considerando (abaixo de 10 é criança, de 11 a 17 adolescente, de 18 a 59 adulto,\n",
    "acima de 60 idoso)"
   ]
  },
  {
   "cell_type": "code",
   "execution_count": 4,
   "metadata": {},
   "outputs": [
    {
     "name": "stdout",
     "output_type": "stream",
     "text": [
      "Você é adolescente\n"
     ]
    }
   ],
   "source": [
    "idade = int(input('Digite sua idade'))\n",
    "if idade > 60:\n",
    "    print ('Você é idoso')\n",
    "else: \n",
    " if idade < 10:\n",
    "    print ('Você é criança') \n",
    " else:\n",
    "    if idade >= 11 or idade <= 17:\n",
    "       print ('Você é adolescente')\n",
    "    else:\n",
    "       if idade >= 18 or  idade <= 59:\n",
    "        print ('Você é adulto')"
   ]
  },
  {
   "cell_type": "markdown",
   "metadata": {},
   "source": [
    "3. Pede ao usuário para digitar o nome de um mês e imprime o número de dias naquele mês."
   ]
  },
  {
   "cell_type": "code",
   "execution_count": 3,
   "metadata": {},
   "outputs": [
    {
     "name": "stdout",
     "output_type": "stream",
     "text": [
      "31\n"
     ]
    }
   ],
   "source": [
    "mês = input('digite um mês:')\n",
    "match mês.capitalize ():\n",
    "    case 'Janeiro':\n",
    "        print(f'31')\n",
    "    case 'Fevereiro':\n",
    "        print(f'29')\n",
    "    case 'Março':\n",
    "        print(f'31')  \n",
    "    case 'Abril':\n",
    "        print(f'30')\n",
    "    case 'Maio':\n",
    "        print(f'31')\n",
    "    case 'Junho':\n",
    "        print(f'30')\n",
    "    case 'Julho':\n",
    "        print(f'31')\n",
    "    case 'Agosto':\n",
    "        print(f'30')\n",
    "    case 'Setembro':\n",
    "        print(f'31')\n",
    "    case 'Outubro':\n",
    "        print(f'30')\n",
    "    case 'Novembro':\n",
    "        print(f'31')\n",
    "    case 'Dezembro':\n",
    "        print(f'30')"
   ]
  },
  {
   "cell_type": "markdown",
   "metadata": {},
   "source": [
    "4. Pede ao usuário para digitar 2 notas e calcule sua média, e considere a média acima de 7\n",
    "aprovado, entre 5 e 7, em recuperação, abaixo de 5 reprovado."
   ]
  },
  {
   "cell_type": "code",
   "execution_count": 7,
   "metadata": {},
   "outputs": [
    {
     "name": "stdout",
     "output_type": "stream",
     "text": [
      "Reprovado\n"
     ]
    }
   ],
   "source": [
    "nota1 = float(input('digite sua nota'))\n",
    "nota2 = float(input('digite sua nota'))\n",
    "nota = (nota1 + nota2) / 2\n",
    "if nota < 5:\n",
    "    print ('Reprovado')\n",
    "if nota > 7:\n",
    "    print ('Aprovado')\n",
    "if nota >= 5 and 7:\n",
    "    print ('Recuperação')"
   ]
  },
  {
   "cell_type": "markdown",
   "metadata": {},
   "source": [
    "5. Pede o salário do funcionário, e calcular o aumento que ele terá, considerando se ganhar até\n",
    "2000, reajuste de 12%, até 4000, reajuste de 10%, acima de 4000 reajuste de 8%, exibir o\n",
    "novo salário"
   ]
  },
  {
   "cell_type": "code",
   "execution_count": 8,
   "metadata": {},
   "outputs": [
    {
     "name": "stdout",
     "output_type": "stream",
     "text": [
      "5400.0\n"
     ]
    }
   ],
   "source": [
    "salario = float(input('Digite o salario:'))\n",
    "if salario <= 2000:\n",
    "    aumento = (salario * 0.12)\n",
    "elif salario <= 4000:\n",
    "    aumento = (salario * 0.10) \n",
    "elif salario >= 4000:\n",
    "    aumento = (salario * 0.08)\n",
    "salario = salario + aumento\n",
    "print(salario)"
   ]
  }
 ],
 "metadata": {
  "kernelspec": {
   "display_name": "Python 3",
   "language": "python",
   "name": "python3"
  },
  "language_info": {
   "codemirror_mode": {
    "name": "ipython",
    "version": 3
   },
   "file_extension": ".py",
   "mimetype": "text/x-python",
   "name": "python",
   "nbconvert_exporter": "python",
   "pygments_lexer": "ipython3",
   "version": "3.12.3"
  }
 },
 "nbformat": 4,
 "nbformat_minor": 2
}
