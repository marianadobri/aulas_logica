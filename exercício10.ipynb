{
 "cells": [
  {
   "cell_type": "markdown",
   "metadata": {},
   "source": [
    " 1. Escreva uma função que utilize uma variável global para contar o número de vezes que foi\n",
    "chamada. A função deve retornar o número atual de chamadas."
   ]
  },
  {
   "cell_type": "code",
   "execution_count": 19,
   "metadata": {},
   "outputs": [
    {
     "name": "stdout",
     "output_type": "stream",
     "text": [
      "1\n",
      "2\n",
      "3\n"
     ]
    }
   ],
   "source": [
    "x = 0\n",
    "\n",
    "def minhaFuncao():\n",
    "    '''\n",
    "        contar\n",
    "    '''\n",
    "    global x\n",
    "    x = x + 1\n",
    "    return  x\n",
    "    \n",
    "\n",
    "print(minhaFuncao())\n",
    "print(minhaFuncao())\n",
    "print(minhaFuncao())\n"
   ]
  },
  {
   "cell_type": "markdown",
   "metadata": {},
   "source": [
    "2. Crie um algoritmo que receba em variável global o valor atual do dólar e do euro, crie uma\n",
    "função que receba o valor a ser convertido e imprima a conversão em dólar e em euro"
   ]
  },
  {
   "cell_type": "code",
   "execution_count": 23,
   "metadata": {},
   "outputs": [
    {
     "name": "stdout",
     "output_type": "stream",
     "text": [
      "Seu valor em dolar é 19.49 e seu valor em euro é 18.348624\n"
     ]
    }
   ],
   "source": [
    "dolar = 5.13\n",
    "euro = 5.45\n",
    "def Transformar(valor1):\n",
    "    global dolar\n",
    "    global euro\n",
    "    realdolar = valor1/dolar\n",
    "    realeuro = valor1/euro\n",
    "    print(f'Seu valor em dolar é {realdolar:.2f} e seu valor em euro é {realeuro:2f}')\n",
    "\n",
    "Transformar(100)"
   ]
  },
  {
   "cell_type": "markdown",
   "metadata": {},
   "source": [
    "3. Escreva uma função que recebe um nome e o adicione a uma lista de nomes global. Em\n",
    "seguida, escreva outra função que remova um elemento dessa lista global recebendo o nome."
   ]
  },
  {
   "cell_type": "code",
   "execution_count": 2,
   "metadata": {},
   "outputs": [
    {
     "name": "stdout",
     "output_type": "stream",
     "text": [
      "['Mariana']\n",
      "['Mariana', 'Thiago']\n",
      "['Thiago']\n"
     ]
    }
   ],
   "source": [
    "listaNomes = []\n",
    "\n",
    "def Adicionar(nome) :\n",
    "    listaNomes.append(nome)\n",
    "    print(listaNomes)\n",
    "\n",
    "def Remover(nome) :\n",
    "    listaNomes.remove(nome)\n",
    "    print(listaNomes)\n",
    "\n",
    "Adicionar('Mariana')\n",
    "Adicionar('Thiago')\n",
    "Remover('Mariana')\n"
   ]
  },
  {
   "cell_type": "markdown",
   "metadata": {},
   "source": [
    "4. Crie um caixa eletrônico: Crie uma variável global para armazenar o saldo, crie função para\n",
    "depositar e sacar, recebendo o valor como parâmetro, crie outra função para consultar o\n",
    "saldo. Crie um menu interativo com while para navegar entre as funções:\n",
    "[1] Depositar \n",
    "[2] Sacar\n",
    "[3] Consultar saldo\n",
    "[4] Parar programa"
   ]
  },
  {
   "cell_type": "code",
   "execution_count": 6,
   "metadata": {},
   "outputs": [
    {
     "name": "stdout",
     "output_type": "stream",
     "text": [
      "Menu\n",
      "[1] Depositar\n",
      "[2] Sacar\n",
      "[3] Consultar\n",
      "[4] Sair\n",
      "Seu saldo R$ 200.00\n",
      "Seu saldo R$ 430.00\n",
      "Seu saldo R$ 305.00\n"
     ]
    }
   ],
   "source": [
    "saldo = 0\n",
    "def Depositar(valor) :\n",
    "    global saldo\n",
    "    saldo = saldo + valor\n",
    "\n",
    "def Sacar(valor): \n",
    "    global saldo\n",
    "    saldo = saldo - valor\n",
    "\n",
    "def ConsultarSaldo():\n",
    "    print(f'Seu saldo R$ {saldo:.2f}')\n",
    "\n",
    "print( 'Menu' )\n",
    "print( '[1] Depositar' )\n",
    "print( '[2] Sacar' )\n",
    "print( '[3] Consultar') \n",
    "print( '[4] Sair')\n",
    "\n",
    "while True :    \n",
    "    opcao = input('Digite a opção do Menu')\n",
    "    if opcao == '1':\n",
    "        valor = float(input('Digite o valor para depositar:'))\n",
    "        Depositar(valor)\n",
    "    elif opcao == '2' :\n",
    "        valor = float(input('Digite o valor para sacar:'))\n",
    "        Sacar(valor)\n",
    "    elif opcao == '3' :\n",
    "        ConsultarSaldo()\n",
    "    else: \n",
    "        break"
   ]
  },
  {
   "cell_type": "markdown",
   "metadata": {},
   "source": [
    "5 - Desenhando um retângulo. Crie um algoritmo que receba em variável global um caractere\n",
    "especial. Em uma função receba 2 parâmetros altura e largura e desenhe de acordo com a\n",
    "largura, a quantidade de vezes que irá repetir o caractere, e de acordo com a altura, o número\n",
    "de linhas que será desenhado. Ex: Caractere +, largura 20 altura 5:"
   ]
  },
  {
   "cell_type": "code",
   "execution_count": 11,
   "metadata": {},
   "outputs": [
    {
     "name": "stdout",
     "output_type": "stream",
     "text": [
      "++++++++++++++++++++\n",
      "++++++++++++++++++++\n",
      "++++++++++++++++++++\n",
      "++++++++++++++++++++\n",
      "++++++++++++++++++++\n"
     ]
    }
   ],
   "source": [
    "caractere = '+'\n",
    "def desenharForma(largura, a):\n",
    "    for i in range(a):\n",
    "        print(caractere * largura)\n",
    "\n",
    "desenharForma(20,5)\n"
   ]
  }
 ],
 "metadata": {
  "kernelspec": {
   "display_name": "Python 3",
   "language": "python",
   "name": "python3"
  },
  "language_info": {
   "codemirror_mode": {
    "name": "ipython",
    "version": 3
   },
   "file_extension": ".py",
   "mimetype": "text/x-python",
   "name": "python",
   "nbconvert_exporter": "python",
   "pygments_lexer": "ipython3",
   "version": "3.12.3"
  }
 },
 "nbformat": 4,
 "nbformat_minor": 2
}
