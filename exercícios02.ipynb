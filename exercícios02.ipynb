{
 "cells": [
  {
   "cell_type": "markdown",
   "metadata": {},
   "source": [
    " 1. Leia 2 notas de um aluno, calcule a média e imprima aprovado ou reprovado (para ser\n",
    "aprovado a média deve ser no mínimo 7)"
   ]
  },
  {
   "cell_type": "code",
   "execution_count": 5,
   "metadata": {},
   "outputs": [
    {
     "name": "stdout",
     "output_type": "stream",
     "text": [
      "reprovado\n"
     ]
    }
   ],
   "source": [
    "nota1 = float(input('digite a nota 1:'))\n",
    "nota2 = float(input('digite a nota 2:'))\n",
    "media = (nota1 + nota2) / 2\n",
    "if media < 7 :\n",
    "    print(\"reprovado\")\n",
    "else:\n",
    "    print(\"aprovado\")\n"
   ]
  },
  {
   "cell_type": "markdown",
   "metadata": {},
   "source": [
    "2. Peça dois números ao usuário e mostre qual o maior e qual o menor"
   ]
  },
  {
   "cell_type": "code",
   "execution_count": 8,
   "metadata": {},
   "outputs": [
    {
     "name": "stdout",
     "output_type": "stream",
     "text": [
      "número1 menor que número2\n"
     ]
    }
   ],
   "source": [
    "numero1 = float(input('digite o número 1:'))\n",
    "numero2 = float(input('digite o número 2:'))\n",
    "if numero1 > numero2:\n",
    "    print('número1 maior que número2')\n",
    "else:\n",
    "    print('número1 menor que número2')\n"
   ]
  },
  {
   "cell_type": "markdown",
   "metadata": {},
   "source": [
    "3. Receba um inteiro e diga se é par ou ímpar."
   ]
  },
  {
   "cell_type": "code",
   "execution_count": 1,
   "metadata": {},
   "outputs": [
    {
     "name": "stdout",
     "output_type": "stream",
     "text": [
      "número impar\n"
     ]
    }
   ],
   "source": [
    "numero = int(input('digite um número inteiro'))\n",
    "if numero % 2 == 0:\n",
    "    print('número par')\n",
    "else: \n",
    "    print('número impar')"
   ]
  },
  {
   "cell_type": "markdown",
   "metadata": {},
   "source": [
    "4. Receba um número inteiro e diga se é positivo ou negativo"
   ]
  },
  {
   "cell_type": "code",
   "execution_count": 1,
   "metadata": {},
   "outputs": [
    {
     "name": "stdout",
     "output_type": "stream",
     "text": [
      "número positivo\n"
     ]
    }
   ],
   "source": [
    "numero = int(input('digite um número'))\n",
    "if numero < 0 :\n",
    "    print('número negativo')\n",
    "else: \n",
    "    print('número positivo')"
   ]
  },
  {
   "cell_type": "markdown",
   "metadata": {},
   "source": [
    "5. Pergunte o ano de nascimento de uma pessoa e diga se ele é maior de idade"
   ]
  },
  {
   "cell_type": "code",
   "execution_count": 2,
   "metadata": {},
   "outputs": [
    {
     "name": "stdout",
     "output_type": "stream",
     "text": [
      "menor de idade\n"
     ]
    }
   ],
   "source": [
    "numero = int(input('digite seu ano de nascimento'))\n",
    "if numero < 2006:\n",
    "    print('maior de idade')\n",
    "else:\n",
    "    print('menor de idade')"
   ]
  },
  {
   "cell_type": "markdown",
   "metadata": {},
   "source": [
    "6. Ler dois números inteiros e informar se estes são iguais ou diferentes."
   ]
  },
  {
   "cell_type": "code",
   "execution_count": 3,
   "metadata": {},
   "outputs": [
    {
     "name": "stdout",
     "output_type": "stream",
     "text": [
      "são diferentes\n"
     ]
    }
   ],
   "source": [
    "numero1 = int(input('digite seu número'))\n",
    "numero2 = int(input('digite o segundo número'))\n",
    "if numero1 == numero2:\n",
    "    print('são iguais')\n",
    "else:\n",
    "    print('são diferentes')"
   ]
  },
  {
   "cell_type": "markdown",
   "metadata": {},
   "source": [
    "7. Receba a velocidade do carro e exiba que foi multado se for maior que 80km/h, o valor da\n",
    "multa será R$ 7,00 por cada km excedido, exibir o valor da multa"
   ]
  },
  {
   "cell_type": "code",
   "execution_count": 5,
   "metadata": {},
   "outputs": [
    {
     "name": "stdout",
     "output_type": "stream",
     "text": [
      "sua velocidade ultrapassou o limite da velocidade e terá que pagar 70.0R$\n"
     ]
    }
   ],
   "source": [
    "velocidade = float(input('sua velocidade'))\n",
    "if velocidade > 80:\n",
    "    taxa = velocidade - 80\n",
    "    print(f'sua velocidade ultrapassou o limite da velocidade e terá que pagar {taxa*7}R$')\n",
    "else:\n",
    "    print('sem multa')"
   ]
  }
 ],
 "metadata": {
  "kernelspec": {
   "display_name": "Python 3",
   "language": "python",
   "name": "python3"
  },
  "language_info": {
   "codemirror_mode": {
    "name": "ipython",
    "version": 3
   },
   "file_extension": ".py",
   "mimetype": "text/x-python",
   "name": "python",
   "nbconvert_exporter": "python",
   "pygments_lexer": "ipython3",
   "version": "3.12.2"
  }
 },
 "nbformat": 4,
 "nbformat_minor": 2
}
