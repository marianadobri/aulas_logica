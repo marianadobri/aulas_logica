{
 "cells": [
  {
   "cell_type": "markdown",
   "metadata": {},
   "source": [
    "1. Faça um Programa que mostre a mensagem \"Seja Bem-Vindo ao SESI 😎\" na tela."
   ]
  },
  {
   "cell_type": "code",
   "execution_count": 1,
   "metadata": {},
   "outputs": [
    {
     "name": "stdout",
     "output_type": "stream",
     "text": [
      "Seja Bem-Vindo ao SESI 😎\n"
     ]
    }
   ],
   "source": [
    "print(\"Seja Bem-Vindo ao SESI 😎\")"
   ]
  },
  {
   "cell_type": "markdown",
   "metadata": {},
   "source": [
    "2. Faça um Programa que peça um número e então mostre a mensagem “O número\n",
    "informado foi [número]”."
   ]
  },
  {
   "cell_type": "code",
   "execution_count": 20,
   "metadata": {},
   "outputs": [
    {
     "name": "stdout",
     "output_type": "stream",
     "text": [
      "O número informado foi: 4\n"
     ]
    }
   ],
   "source": [
    "numero= int(input(\"digite um numero\"))\n",
    "print(f'O número informado foi: {numero}')"
   ]
  },
  {
   "cell_type": "markdown",
   "metadata": {},
   "source": [
    "3. Faça um programa que receba 2 números inteiros e exiba a divisão entre eles"
   ]
  },
  {
   "cell_type": "code",
   "execution_count": 16,
   "metadata": {},
   "outputs": [
    {
     "name": "stdout",
     "output_type": "stream",
     "text": [
      "Resultado da divisão é: 2.0\n"
     ]
    }
   ],
   "source": [
    "numero1 = float(input('Digite um número inteiro'))\n",
    "numero2 = float(input('Digite outro número inteiro'))\n",
    "divisao = numero1/numero2\n",
    "print(f'Resultado da divisão é: {divisao}')\n"
   ]
  },
  {
   "cell_type": "markdown",
   "metadata": {},
   "source": [
    "4. Faça um Programa que pergunte quanto você ganha por hora e o número de horas\n",
    "trabalhadas no mês. Calcule e mostre o total do seu salário no referido mês."
   ]
  },
  {
   "cell_type": "code",
   "execution_count": 19,
   "metadata": {},
   "outputs": [
    {
     "name": "stdout",
     "output_type": "stream",
     "text": [
      "Seu salário do mês é:4000.00\n"
     ]
    }
   ],
   "source": [
    "ganhoHora = float(input('Digite quando você ganha por hora'))\n",
    "horaTrabalho = float(input('Digite o número de horas trabalhadas no mês'))\n",
    "salarioMes = ganhoHora*horaTrabalho\n",
    "print(f'Seu salário do mês é:{salarioMes:.2f}')"
   ]
  },
  {
   "cell_type": "markdown",
   "metadata": {},
   "source": [
    "5. Faça um Programa que verifique se uma letra digitada é \"F\" ou \"M\". Conforme a letra\n",
    "escrever: F - Feminino, M - Masculino, Sexo Inválido."
   ]
  },
  {
   "cell_type": "code",
   "execution_count": 24,
   "metadata": {},
   "outputs": [
    {
     "name": "stdout",
     "output_type": "stream",
     "text": [
      "Feminino\n"
     ]
    }
   ],
   "source": [
    "letra = input('Digite seu sexo')\n",
    "if letra == \"F\":\n",
    "    print(\"Feminino\")\n",
    "elif letra == \"M\":\n",
    "    print('Masculino')\n",
    "else:\n",
    "    print('Sexo inválido')"
   ]
  },
  {
   "cell_type": "markdown",
   "metadata": {},
   "source": [
    "6. Tendo como dado de entrada a altura (h) de uma pessoa e o sexo, construa um algoritmo\n",
    "que calcule seu peso ideal, utilizando as seguintes fórmulas:\n",
    "Para homens: (72.7 * altura) – 58 Para mulheres: (62.1 * altura) - 44.7"
   ]
  },
  {
   "cell_type": "code",
   "execution_count": 27,
   "metadata": {},
   "outputs": [
    {
     "name": "stdout",
     "output_type": "stream",
     "text": [
      "53.418000000000006\n"
     ]
    }
   ],
   "source": [
    "letra = input('Digite seu sexo')\n",
    "altura = float(input('Digite sua altura'))\n",
    "if letra == 'F':\n",
    "    pesoIdeal = (62.1 * altura) -44.7\n",
    "    print(pesoIdeal)\n",
    "elif letra =='M':\n",
    "    pesoIdeal = (72.7 * altura) -58\n",
    "    print(pesoIdeal)"
   ]
  },
  {
   "cell_type": "markdown",
   "metadata": {},
   "source": [
    "7. Faça um Programa que pergunte quanto você ganha por hora e o número de horas\n",
    "trabalhadas no mês.\n",
    "Calcule e mostre o total do seu salário no referido mês, sabendo-se que são descontados\n",
    "11% para o Imposto de Renda, 8% para o INSS e 5% para o sindicato, faça um programa\n",
    "que nos dê: salário bruto. quanto pagou ao INSS. quanto pagou ao sindicato. o salário\n",
    "líquido. calcule os descontos e o salário líquido, conforme a tabela abaixo:\n",
    "+ Salário Bruto : R$\n",
    "- IR (11%) : R$\n",
    "- INSS (8%) : R$\n",
    "- Sindicato ( 5%) : R$\n",
    "= Salário Liquido : R$\n",
    "Obs.: Salário Bruto - Descontos = Salário Líquido."
   ]
  },
  {
   "cell_type": "code",
   "execution_count": 28,
   "metadata": {},
   "outputs": [
    {
     "name": "stdout",
     "output_type": "stream",
     "text": [
      "3040.0\n"
     ]
    }
   ],
   "source": [
    "valorHora = float(input('Digite o valor da sua hora'))\n",
    "totalHora = float(input('Digite quantas horas de trabalho'))\n",
    "salario = valorHora * totalHora \n",
    "impostoDeRenda = salario * 0.11\n",
    "inss = salario * 0.08\n",
    "sindicato = salario * 0.05 \n",
    "salarioliquido = salario - impostoDeRenda - inss - sindicato \n",
    "print(salarioliquido)"
   ]
  },
  {
   "cell_type": "markdown",
   "metadata": {},
   "source": [
    "8. Faça uma função que peça um valor e mostre na tela se o valor é positivo ou negativo."
   ]
  },
  {
   "cell_type": "code",
   "execution_count": 26,
   "metadata": {},
   "outputs": [
    {
     "name": "stdout",
     "output_type": "stream",
     "text": [
      "Número negativo\n"
     ]
    }
   ],
   "source": [
    "numero = float(input('Digite um número'))\n",
    "if numero >= 0 :\n",
    "    print('Número positivo')\n",
    "elif numero < 0:\n",
    "    print('Número negativo')"
   ]
  },
  {
   "cell_type": "markdown",
   "metadata": {},
   "source": [
    "9. Faça uma função que imprima na tela apenas os números ímpares entre 1 e 50."
   ]
  },
  {
   "cell_type": "code",
   "execution_count": null,
   "metadata": {},
   "outputs": [],
   "source": []
  }
 ],
 "metadata": {
  "kernelspec": {
   "display_name": "Python 3",
   "language": "python",
   "name": "python3"
  },
  "language_info": {
   "codemirror_mode": {
    "name": "ipython",
    "version": 3
   },
   "file_extension": ".py",
   "mimetype": "text/x-python",
   "name": "python",
   "nbconvert_exporter": "python",
   "pygments_lexer": "ipython3",
   "version": "3.12.3"
  }
 },
 "nbformat": 4,
 "nbformat_minor": 2
}
