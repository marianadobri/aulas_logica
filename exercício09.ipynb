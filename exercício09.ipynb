{
 "cells": [
  {
   "cell_type": "markdown",
   "metadata": {},
   "source": [
    " 1. Crie uma função sem parâmetros que exiba uma linha com 50 * , e uma mensagem de boas\n",
    "vindas, chame essa função por 4 vezes"
   ]
  },
  {
   "cell_type": "code",
   "execution_count": 2,
   "metadata": {},
   "outputs": [
    {
     "name": "stdout",
     "output_type": "stream",
     "text": [
      "**************************************************\n",
      "Boas vindas\n",
      "**************************************************\n",
      "**************************************************\n",
      "Boas vindas\n",
      "**************************************************\n",
      "**************************************************\n",
      "Boas vindas\n",
      "**************************************************\n"
     ]
    }
   ],
   "source": [
    "def linha():\n",
    "    print ('*' * 50)\n",
    "    print('Boas vindas')\n",
    "    print ('*' * 50)\n",
    "\n",
    "linha()\n",
    "linha()\n",
    "linha()\n",
    "    \n",
    "\n"
   ]
  },
  {
   "cell_type": "markdown",
   "metadata": {},
   "source": [
    "2 - Crie uma função que contenha uma lista com as cores primárias e exiba cada cor em uma\n",
    "linha"
   ]
  },
  {
   "cell_type": "code",
   "execution_count": 2,
   "metadata": {},
   "outputs": [
    {
     "name": "stdout",
     "output_type": "stream",
     "text": [
      "azul\n",
      "amarelo\n",
      "vermelho\n"
     ]
    }
   ],
   "source": [
    "def CoresPrimarias():\n",
    "    listacores = ['azul', 'amarelo', 'vermelho']\n",
    "    for cor in listacores:\n",
    "        print(cor)\n",
    "\n",
    "CoresPrimarias()\n"
   ]
  },
  {
   "cell_type": "markdown",
   "metadata": {},
   "source": [
    "3. Crie uma função que recebe um número como parâmetro e exiba a tabuada até o 10, chame\n",
    "essa função por 3 vezes enviando parâmetros diferentes"
   ]
  },
  {
   "cell_type": "code",
   "execution_count": 7,
   "metadata": {},
   "outputs": [
    {
     "name": "stdout",
     "output_type": "stream",
     "text": [
      " 2 x 0 = 0\n",
      " 2 x 1 = 2\n",
      " 2 x 2 = 4\n",
      " 2 x 3 = 6\n",
      " 2 x 4 = 8\n",
      " 2 x 5 = 10\n",
      " 2 x 6 = 12\n",
      " 2 x 7 = 14\n",
      " 2 x 8 = 16\n",
      " 2 x 9 = 18\n",
      " 2 x 10 = 20\n",
      " 8 x 0 = 0\n",
      " 8 x 1 = 8\n",
      " 8 x 2 = 16\n",
      " 8 x 3 = 24\n",
      " 8 x 4 = 32\n",
      " 8 x 5 = 40\n",
      " 8 x 6 = 48\n",
      " 8 x 7 = 56\n",
      " 8 x 8 = 64\n",
      " 8 x 9 = 72\n",
      " 8 x 10 = 80\n",
      " 4 x 0 = 0\n",
      " 4 x 1 = 4\n",
      " 4 x 2 = 8\n",
      " 4 x 3 = 12\n",
      " 4 x 4 = 16\n",
      " 4 x 5 = 20\n",
      " 4 x 6 = 24\n",
      " 4 x 7 = 28\n",
      " 4 x 8 = 32\n",
      " 4 x 9 = 36\n",
      " 4 x 10 = 40\n"
     ]
    }
   ],
   "source": [
    "def Tabuada(numero):\n",
    "    for x in range (11):\n",
    "        print(f' {numero} x {x} = {numero * x}')\n",
    "\n",
    "Tabuada(2)\n",
    "Tabuada(8)\n",
    "Tabuada(4)"
   ]
  },
  {
   "cell_type": "markdown",
   "metadata": {},
   "source": [
    "4. Crie uma função que receba 2 números e o operador matemático para realizar a operação\n",
    "(Ex. envio os parâmetros 2 e 5 e *, fazer a multiplicação), tratar as operações + - * / **"
   ]
  },
  {
   "cell_type": "code",
   "execution_count": 6,
   "metadata": {},
   "outputs": [
    {
     "name": "stdout",
     "output_type": "stream",
     "text": [
      "42\n"
     ]
    }
   ],
   "source": [
    "def Calculadora(n1, n2, op) :\n",
    "    if op == '+':\n",
    "        resultado = n1 + n2\n",
    "    elif op == '-' :\n",
    "        resultado = n1 - n2 \n",
    "    elif op == '*' :\n",
    "        resultado = n1 * n2 \n",
    "    elif op == '/' :\n",
    "        resultado = n1 / n2 \n",
    "    elif op == '**' :\n",
    "        resultado = n1 ** n2 \n",
    "    # Se não for nenhum dos operadores anteriores:\n",
    "    else:\n",
    "        resultado = 'Digite um operador válido'\n",
    "    print(resultado)\n",
    "\n",
    "Calculadora(6, 7, '*')\n"
   ]
  },
  {
   "cell_type": "markdown",
   "metadata": {},
   "source": [
    "5. Crie uma função que gere uma senha aleatória, deve receber como parâmetro a quantidade\n",
    "de caracteres que terá a senha, crie uma lista com todos os caracteres disponíveis para a\n",
    "senha e com o random sorteie a qual de dígitos terá a senha"
   ]
  },
  {
   "cell_type": "code",
   "execution_count": 8,
   "metadata": {},
   "outputs": [
    {
     "name": "stdout",
     "output_type": "stream",
     "text": [
      "42ZkULRq70m9wpdbr8bxAQGJilqQfukvCXhUBQTMiRrYSjqRiG\n"
     ]
    }
   ],
   "source": [
    "import random\n",
    "\n",
    "def SenhaAleatoria(tamanho) :\n",
    "    listaCaracteres = 'qwertyuiopasdfghjklzxcvbnmQWERTYUIOPASDFGHJKLZXCVBNM1234567890'\n",
    "    senha = ''\n",
    "    for i in range(tamanho) :\n",
    "        senha = senha + random.choice(listaCaracteres)\n",
    "\n",
    "    return(senha)\n",
    "\n",
    "senhaTemp = SenhaAleatoria(50)\n",
    "print(senhaTemp)"
   ]
  }
 ],
 "metadata": {
  "kernelspec": {
   "display_name": "Python 3",
   "language": "python",
   "name": "python3"
  },
  "language_info": {
   "codemirror_mode": {
    "name": "ipython",
    "version": 3
   },
   "file_extension": ".py",
   "mimetype": "text/x-python",
   "name": "python",
   "nbconvert_exporter": "python",
   "pygments_lexer": "ipython3",
   "version": "3.12.3"
  }
 },
 "nbformat": 4,
 "nbformat_minor": 2
}
